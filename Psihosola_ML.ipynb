{
 "cells": [
  {
   "cell_type": "markdown",
   "id": "cosmetic-supplement",
   "metadata": {},
   "source": [
    "Importing libraries"
   ]
  },
  {
   "cell_type": "code",
   "execution_count": 34,
   "id": "labeled-subscription",
   "metadata": {},
   "outputs": [],
   "source": [
    "import numpy as np\n",
    "import pandas as pd\n",
    "from sklearn.model_selection import train_test_split\n",
    "from sklearn.preprocessing import MinMaxScaler\n",
    "from sklearn.impute import SimpleImputer\n",
    "from sklearn.model_selection import GridSearchCV\n",
    "from sklearn.linear_model import LogisticRegression\n",
    "from sklearn.ensemble import RandomForestClassifier\n",
    "from sklearn.svm import SVC\n",
    "from sklearn.metrics import confusion_matrix, auc, roc_curve\n",
    "import matplotlib.pyplot as plt\n",
    "import warnings\n",
    "warnings.filterwarnings('ignore')"
   ]
  },
  {
   "cell_type": "markdown",
   "id": "affected-theory",
   "metadata": {},
   "source": [
    "Importing data"
   ]
  },
  {
   "cell_type": "code",
   "execution_count": 17,
   "id": "modern-disabled",
   "metadata": {},
   "outputs": [],
   "source": [
    "data = pd.read_csv('synth_total.csv')"
   ]
  },
  {
   "cell_type": "markdown",
   "id": "dutch-february",
   "metadata": {},
   "source": [
    "Splitting data on train and test sets"
   ]
  },
  {
   "cell_type": "code",
   "execution_count": 18,
   "id": "provincial-battery",
   "metadata": {},
   "outputs": [],
   "source": [
    "X = data[[\n",
    "'age',\n",
    "'satistifaction_finance',\n",
    "'satisfaction_relationships',\n",
    "'satisfaction_apartment',\n",
    "'bc_self_distraction',\n",
    "'bc_active_coping',\n",
    "'bc_denial',\n",
    "'bc_substance_use',\n",
    "'bc_emotional_support',\n",
    "'bc_behavioral_disengagement',\n",
    "'bc_instrumental_support',\n",
    "'bc_venting',\n",
    "'bc_positive_reframing',\n",
    "'bc_planning',\n",
    "'bc_humor',\n",
    "'bc_acceptance',\n",
    "'bc_religion',\n",
    "'bc_self_blame',\n",
    "'gender_rec_Male',\n",
    "'physical_activity_rec_change_Same',\n",
    "'substance_change_Not more',\n",
    "'eating_habits_rec_change_No change',\n",
    "'nr_people_in_HH']]\n",
    "\n",
    "y = data[['sidas_total_cat_0_High']]"
   ]
  },
  {
   "cell_type": "code",
   "execution_count": 19,
   "id": "french-israeli",
   "metadata": {},
   "outputs": [],
   "source": [
    "X_train, X_test, y_train, y_test = train_test_split(X, y, test_size=0.33, random_state=42, stratify=y)"
   ]
  },
  {
   "cell_type": "markdown",
   "id": "revolutionary-collapse",
   "metadata": {},
   "source": [
    "Replacing missing values in one column of the training set"
   ]
  },
  {
   "cell_type": "code",
   "execution_count": 20,
   "id": "formed-knock",
   "metadata": {
    "scrolled": true
   },
   "outputs": [],
   "source": [
    "bc_instrumental_support_imputer = SimpleImputer(missing_values=np.nan, strategy='mean')\n",
    "\n",
    "X_train[['bc_instrumental_support']] = bc_instrumental_support_imputer.fit_transform(X_train[['bc_instrumental_support']])"
   ]
  },
  {
   "cell_type": "markdown",
   "id": "greatest-poetry",
   "metadata": {},
   "source": [
    "Scaling the training set\n",
    "\n",
    "Most of ML algorithms do not perform well when the attributes have very different scales, so we scale them. Min-max scaling, or normalization, means that we rescale all the attributes to be on the scale from 0 to 1."
   ]
  },
  {
   "cell_type": "code",
   "execution_count": 21,
   "id": "confident-arbitration",
   "metadata": {},
   "outputs": [],
   "source": [
    "mmscaler = MinMaxScaler()\n",
    "\n",
    "X_train[['age_n','satistifaction_finance_n', 'satisfaction_relationships_n', 'satisfaction_apartment_n',\n",
    "   'bc_self_distraction_n', 'bc_active_coping_n', 'bc_denial_n', 'bc_substance_use_n', 'bc_emotional_support_n', 'bc_behavioral_disengagement_n', 'bc_venting_n', 'bc_positive_reframing_n', 'bc_planning_n',\n",
    "   'bc_humor_n', 'bc_acceptance_n', 'bc_religion_n', 'bc_instrumental_support_n', 'bc_self_blame_n', 'nr_people_in_HH_n'\n",
    "   ]] = mmscaler.fit_transform(X_train[['age','satistifaction_finance', 'satisfaction_relationships', 'satisfaction_apartment', \n",
    "   'bc_self_distraction', 'bc_active_coping', 'bc_denial', 'bc_substance_use', 'bc_emotional_support',\n",
    "    'bc_behavioral_disengagement', 'bc_venting', 'bc_positive_reframing', 'bc_planning',\n",
    "    'bc_humor', 'bc_acceptance', 'bc_religion', 'bc_instrumental_support', 'bc_self_blame','nr_people_in_HH']])\n",
    "\n",
    "X_train.drop(['age','satistifaction_finance', 'satisfaction_relationships', 'satisfaction_apartment', \n",
    "   'bc_self_distraction', 'bc_active_coping', 'bc_denial', 'bc_substance_use', 'bc_emotional_support',\n",
    "    'bc_behavioral_disengagement', 'bc_venting', 'bc_positive_reframing', 'bc_planning',\n",
    "    'bc_humor', 'bc_acceptance', 'bc_religion', 'bc_instrumental_support', 'bc_self_blame','nr_people_in_HH'], \n",
    "             axis=1, inplace=True)\n"
   ]
  },
  {
   "cell_type": "markdown",
   "id": "basic-brother",
   "metadata": {},
   "source": [
    "Missing value imputation and scaling test set"
   ]
  },
  {
   "cell_type": "code",
   "execution_count": 22,
   "id": "national-aruba",
   "metadata": {},
   "outputs": [],
   "source": [
    "X_test[['bc_instrumental_support']] = bc_instrumental_support_imputer.transform(X_test[['bc_instrumental_support']])\n",
    "\n",
    "X_test[['age_n','satistifaction_finance_n', 'satisfaction_relationships_n', 'satisfaction_apartment_n',\n",
    "   'bc_self_distraction_n', 'bc_active_coping_n', 'bc_denial_n', 'bc_substance_use_n', 'bc_emotional_support_n', 'bc_behavioral_disengagement_n', 'bc_venting_n', 'bc_positive_reframing_n', 'bc_planning_n',\n",
    "   'bc_humor_n', 'bc_acceptance_n', 'bc_religion_n', 'bc_instrumental_support_n', 'bc_self_blame_n', 'nr_people_in_HH_n'\n",
    "   ]] = mmscaler.transform(X_test[['age','satistifaction_finance', 'satisfaction_relationships', 'satisfaction_apartment', \n",
    "   'bc_self_distraction', 'bc_active_coping', 'bc_denial', 'bc_substance_use', 'bc_emotional_support',\n",
    "    'bc_behavioral_disengagement', 'bc_venting', 'bc_positive_reframing', 'bc_planning',\n",
    "    'bc_humor', 'bc_acceptance', 'bc_religion', 'bc_instrumental_support', 'bc_self_blame','nr_people_in_HH']])\n",
    "\n",
    "X_test.drop(['age','satistifaction_finance', 'satisfaction_relationships', 'satisfaction_apartment', \n",
    "   'bc_self_distraction', 'bc_active_coping', 'bc_denial', 'bc_substance_use', 'bc_emotional_support',\n",
    "    'bc_behavioral_disengagement', 'bc_venting', 'bc_positive_reframing', 'bc_planning',\n",
    "    'bc_humor', 'bc_acceptance', 'bc_religion', 'bc_instrumental_support', 'bc_self_blame','nr_people_in_HH'], \n",
    "             axis=1, inplace=True)"
   ]
  },
  {
   "cell_type": "markdown",
   "id": "comprehensive-pocket",
   "metadata": {},
   "source": [
    "Setting up the models\n",
    "\n",
    "Logistic Regression: uses logistic function to maps any real-valued set of independent variables input into a value between 0 and 1.  \n",
    "\n",
    "Random Forest: multiple decision trees are created using different random subsets of the data and features, so that each three can be different. Predictions are made by calculating the prediction for each decision tree, then taking the most popular result. \n",
    "\n",
    "Support vector machine: finds a hyperplane that best separates the two classes, by finding the maximum margin between the hyperplane and the closest observations - maximum distances between the two classes.\n",
    "\n"
   ]
  },
  {
   "cell_type": "code",
   "execution_count": 23,
   "id": "streaming-possibility",
   "metadata": {},
   "outputs": [],
   "source": [
    "lr = LogisticRegression()\n",
    "\n",
    "rf = RandomForestClassifier()\n",
    "\n",
    "svm = SVC(random_state=99)"
   ]
  },
  {
   "cell_type": "markdown",
   "id": "alone-sarah",
   "metadata": {},
   "source": [
    "Hyperparameter tuning using grid search.\n",
    "\n",
    "Hyperparameters are model parameters whose values are set before training. Hyperparameter tuning is a process of finding the right values of the hyperparameters to get the best results. In grid search, we organize hyperparameters into a grid and try every combination of values of this grid, calculating some performance metrics using cross-validation.\n",
    "\n",
    "For LRG:\n",
    "-solver - how parameters are found\n",
    "-penalty - what kind of regularization is used: none, Lasso or Ridge\n",
    "-C - strenght of the regularization\n",
    "\n",
    "For RF:\n",
    "-min_samples_leaf - minimum number of samples required to be at a leaf node\n",
    "-max_depth - depth of each tree in the forest\n",
    "-min_samples_split - minimum number of samples required to split an internal node\n",
    "\n",
    "For SVM:\n",
    "-kernel - function to define the separation plane\n",
    "-C - size of the margin for missclassification"
   ]
  },
  {
   "cell_type": "code",
   "execution_count": 24,
   "id": "intense-painting",
   "metadata": {},
   "outputs": [],
   "source": [
    "lr_param_grid = [{\n",
    "                  'solver': ['newton-cg', 'lbfgs', 'liblinear'],\n",
    "                  'penalty': ['none', 'l1', 'l2'],\n",
    "                  'C': [1.0, 0.5, 0.1]\n",
    "                 }]\n",
    "\n",
    "rf_param_grid = [{\n",
    "                   'min_samples_leaf': [1, 2, 3, 4, 5, 6],\n",
    "                   'max_depth': [1, 2, 3, 4, 5, 6],\n",
    "                   'min_samples_split': [2, 3, 4, 5, 6]}]\n",
    "\n",
    "\n",
    "svm_param_grid = [{\n",
    "                   'kernel': ['linear', 'rbf'], \n",
    "                   'C': [1, 2, 3, 4, 5, 6]}]\n",
    "\n"
   ]
  },
  {
   "cell_type": "markdown",
   "id": "increasing-cholesterol",
   "metadata": {},
   "source": [
    "Performance metric: some metric that measures how our model performes. Some popular ones are: \n",
    "\n",
    "-accuracy (% accurately predicted)\n",
    "\n",
    "-confusion matrix (number of TP, FP, TN, and FN)\n",
    "\n",
    "-precision (% of TP among all predicted P) and recall/sensitivity (% of predicted P among all existing P)\n",
    "\n",
    "-F1 score (harmonic mean of precision and recall)\n",
    "\n",
    "-AUROC (Area under Receiver operating characteristics curve) - high ROC means that the probability of a randomly chosen positive example is really positive\n",
    "\n",
    "K-fold cross-validation: training data is divided into k subsets. Each time, one of the k subsets is used as the validation set and the other k-1 subsets form a training set. The error estimation is averaged over all k trials."
   ]
  },
  {
   "cell_type": "code",
   "execution_count": 25,
   "id": "heated-ceremony",
   "metadata": {},
   "outputs": [],
   "source": [
    "lr_gs=GridSearchCV(lr, lr_param_grid, scoring='roc_auc', n_jobs=-1, cv=10)\n",
    "\n",
    "rf_gs=GridSearchCV(rf, rf_param_grid, scoring='roc_auc', n_jobs=-1, cv=10)\n",
    "\n",
    "svm_gs=GridSearchCV(svm, svm_param_grid, scoring='roc_auc', n_jobs=-1, cv=10)"
   ]
  },
  {
   "cell_type": "markdown",
   "id": "falling-graphics",
   "metadata": {},
   "source": [
    "Fitting the models"
   ]
  },
  {
   "cell_type": "code",
   "execution_count": 26,
   "id": "lyric-analysis",
   "metadata": {
    "scrolled": true
   },
   "outputs": [
    {
     "data": {
      "text/plain": [
       "GridSearchCV(cv=10, estimator=SVC(random_state=99), n_jobs=-1,\n",
       "             param_grid=[{'C': [1, 2, 3, 4, 5, 6],\n",
       "                          'kernel': ['linear', 'rbf']}],\n",
       "             scoring='roc_auc')"
      ]
     },
     "execution_count": 26,
     "metadata": {},
     "output_type": "execute_result"
    }
   ],
   "source": [
    "lr_gs.fit(X_train,y_train)\n",
    "rf_gs.fit(X_train,y_train)\n",
    "svm_gs.fit(X_train,y_train)"
   ]
  },
  {
   "cell_type": "markdown",
   "id": "medium-dispute",
   "metadata": {},
   "source": [
    "Assessing models' performance"
   ]
  },
  {
   "cell_type": "code",
   "execution_count": 27,
   "id": "according-annex",
   "metadata": {},
   "outputs": [
    {
     "name": "stdout",
     "output_type": "stream",
     "text": [
      "Log. Regression AuC: 0.968381718884737\n",
      "Log. Regression; Best Params: {'C': 1.0, 'penalty': 'l1', 'solver': 'liblinear'}\n",
      "[[482   8]\n",
      " [  7  64]]\n",
      "RF AuC: 0.9876976142569704\n",
      "RF; Best Params: {'max_depth': 4, 'min_samples_leaf': 5, 'min_samples_split': 5}\n",
      "[[485   5]\n",
      " [  5  66]]\n",
      "SVM AuC: 0.9795918367346939\n",
      "SVM; Best Params: {'C': 5, 'kernel': 'rbf'}\n",
      "[[483   7]\n",
      " [ 13  58]]\n"
     ]
    }
   ],
   "source": [
    "print('{} AuC: {}'.format(\"Log. Regression\",\n",
    "lr_gs.score(X_test,y_test)))\n",
    "print('{} Best Params: {}'.format(\"Log. Regression;\", lr_gs.best_params_))\n",
    "preds_lr=lr_gs.predict(X_test)\n",
    "print(confusion_matrix(y_test, preds_lr))\n",
    "\n",
    "print('{} AuC: {}'.format(\"RF\",\n",
    "rf_gs.score(X_test,y_test)))\n",
    "print('{} Best Params: {}'.format(\"RF;\", rf_gs.best_params_))\n",
    "preds_rf=rf_gs.predict(X_test)\n",
    "print(confusion_matrix(y_test, preds_rf))\n",
    "\n",
    "print('{} AuC: {}'.format(\"SVM\",\n",
    "svm_gs.score(X_test,y_test)))\n",
    "print('{} Best Params: {}'.format(\"SVM;\", svm_gs.best_params_))\n",
    "preds_svm=svm_gs.predict(X_test)\n",
    "print(confusion_matrix(y_test, preds_svm))\n",
    " "
   ]
  },
  {
   "cell_type": "markdown",
   "id": "residential-pickup",
   "metadata": {},
   "source": [
    "Printing out the coefficients"
   ]
  },
  {
   "cell_type": "code",
   "execution_count": 28,
   "id": "constant-graduate",
   "metadata": {
    "scrolled": true
   },
   "outputs": [
    {
     "name": "stdout",
     "output_type": "stream",
     "text": [
      "('bc_self_blame_n', 13.048999201161514)\n",
      "('bc_acceptance_n', -1.973441100160334)\n",
      "('bc_instrumental_support_n', -1.8633005050242644)\n",
      "('substance_change_Not more', -1.6011621860626195)\n",
      "('bc_planning_n', -0.9136950939964246)\n",
      "('bc_substance_use_n', -0.7793793587506895)\n",
      "('bc_religion_n', -0.5824691560366408)\n",
      "('satisfaction_relationships_n', 0.32830001944642634)\n",
      "('bc_venting_n', 0.1965989007053192)\n",
      "('bc_behavioral_disengagement_n', -0.15441276675188936)\n",
      "('age_n', 0.04653732012040938)\n",
      "('bc_humor_n', -0.021889964255863665)\n",
      "('gender_rec_Male', 0.0)\n",
      "('physical_activity_rec_change_Same', 0.0)\n",
      "('eating_habits_rec_change_No change', 0.0)\n",
      "('satistifaction_finance_n', 0.0)\n",
      "('satisfaction_apartment_n', 0.0)\n",
      "('bc_self_distraction_n', 0.0)\n",
      "('bc_active_coping_n', 0.0)\n",
      "('bc_denial_n', 0.0)\n",
      "('bc_emotional_support_n', 0.0)\n",
      "('bc_positive_reframing_n', 0.0)\n",
      "('nr_people_in_HH_n', 0.0)\n"
     ]
    }
   ],
   "source": [
    "features = X_train.columns\n",
    "for i in sorted(zip(features, lr_gs.best_estimator_.coef_[0]), key=lambda x:-abs(x[-1])):\n",
    "    print(i)"
   ]
  },
  {
   "cell_type": "code",
   "execution_count": 29,
   "id": "numerical-money",
   "metadata": {},
   "outputs": [
    {
     "data": {
      "text/plain": [
       "array([-7.64886563])"
      ]
     },
     "execution_count": 29,
     "metadata": {},
     "output_type": "execute_result"
    }
   ],
   "source": [
    "lr_gs.best_estimator_.intercept_"
   ]
  },
  {
   "cell_type": "markdown",
   "id": "hundred-dining",
   "metadata": {},
   "source": [
    "Plotting the ROC curve"
   ]
  },
  {
   "cell_type": "code",
   "execution_count": 35,
   "id": "peaceful-ancient",
   "metadata": {},
   "outputs": [
    {
     "data": {
      "image/png": "[encoded data removed]",
      "text/plain": [
       "<Figure size 432x288 with 1 Axes>"
      ]
     },
     "metadata": {
      "needs_background": "light"
     },
     "output_type": "display_data"
    }
   ],
   "source": [
    "probs_lr = lr_gs.predict_proba(X_test)\n",
    "preds_lr = probs_lr[:,1]\n",
    "fpr_lr, tpr_lr, threshold_lr = roc_curve(y_test, preds_lr)\n",
    "roc_auc_lr = auc(fpr_lr, tpr_lr)\n",
    "\n",
    "roc_curve(y_test, preds_lr)\n",
    "#plt.title('Logistic Regression: Receiver Operating Characteristic')\n",
    "plot1 = plt.plot(fpr_lr, tpr_lr, 'b', label = 'LGR classifer (AUC = %0.2f)' % roc_auc_lr)\n",
    "plt.legend(loc = 'lower right')\n",
    "plot2 = plt.plot([0, 1], [0, 1],'r--', label = 'Random classifier (AUC = 0.50)')\n",
    "plt.xlim([0, 1])\n",
    "plt.ylim([0, 1])\n",
    "plt.ylabel('True Positive Rate')\n",
    "plt.xlabel('False Positive Rate')\n",
    "plt.legend(bbox_to_anchor=(1, 0.2))\n",
    "plt.show()"
   ]
  },
  {
   "cell_type": "code",
   "execution_count": 36,
   "id": "nervous-settle",
   "metadata": {},
   "outputs": [
    {
     "data": {
      "text/plain": [
       "<AxesSubplot:>"
      ]
     },
     "execution_count": 36,
     "metadata": {},
     "output_type": "execute_result"
    },
    {
     "data": {
      "image/png": "[encoded data removed]",
      "text/plain": [
       "<Figure size 432x288 with 1 Axes>"
      ]
     },
     "metadata": {
      "needs_background": "light"
     },
     "output_type": "display_data"
    }
   ],
   "source": [
    "feature_importances = pd.Series(rf_gs.best_estimator_.feature_importances_, index=X_train.columns).sort_values(ascending=False)\n",
    "\n",
    "feature_importances.plot.bar()"
   ]
  },
  {
   "cell_type": "code",
   "execution_count": null,
   "id": "breathing-regard",
   "metadata": {},
   "outputs": [],
   "source": []
  }
 ],
 "metadata": {
  "kernelspec": {
   "display_name": "Python 3",
   "language": "python",
   "name": "python3"
  },
  "language_info": {
   "codemirror_mode": {
    "name": "ipython",
    "version": 3
   },
   "file_extension": ".py",
   "mimetype": "text/x-python",
   "name": "python",
   "nbconvert_exporter": "python",
   "pygments_lexer": "ipython3",
   "version": "3.8.5"
  }
 },
 "nbformat": 4,
 "nbformat_minor": 5
}
